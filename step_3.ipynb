{
 "cells": [
  {
   "cell_type": "code",
   "execution_count": 248,
   "id": "69d80296-f0c7-4160-a78a-0b15a4126f84",
   "metadata": {},
   "outputs": [],
   "source": [
    "import requests\n",
    "import pandas as pd"
   ]
  },
  {
   "cell_type": "code",
   "execution_count": 249,
   "id": "307418b6-631e-4f81-baa8-51f2e0c9bb12",
   "metadata": {},
   "outputs": [
    {
     "data": {
      "text/plain": [
       "263459"
      ]
     },
     "execution_count": 249,
     "metadata": {},
     "output_type": "execute_result"
    }
   ],
   "source": [
    "r_v = requests.get('https://data-charts-api.hexlet.app/visits?begin=2023-03-01&end=2023-09-01')\n",
    "visits = pd.DataFrame(r_v.json())\n",
    "len(visits)"
   ]
  },
  {
   "cell_type": "markdown",
   "id": "fd493551-b499-4658-a1ff-47a2eaba5588",
   "metadata": {},
   "source": [
    "<h3>Удаление ботов из визитов:</h3>"
   ]
  },
  {
   "cell_type": "code",
   "execution_count": 250,
   "id": "306af76f-9e3b-4294-b518-7d14767d9702",
   "metadata": {},
   "outputs": [
    {
     "data": {
      "text/html": [
       "<div>\n",
       "<style scoped>\n",
       "    .dataframe tbody tr th:only-of-type {\n",
       "        vertical-align: middle;\n",
       "    }\n",
       "\n",
       "    .dataframe tbody tr th {\n",
       "        vertical-align: top;\n",
       "    }\n",
       "\n",
       "    .dataframe thead th {\n",
       "        text-align: right;\n",
       "    }\n",
       "</style>\n",
       "<table border=\"1\" class=\"dataframe\">\n",
       "  <thead>\n",
       "    <tr style=\"text-align: right;\">\n",
       "      <th></th>\n",
       "      <th>datetime</th>\n",
       "      <th>platform</th>\n",
       "      <th>user_agent</th>\n",
       "      <th>visit_id</th>\n",
       "    </tr>\n",
       "  </thead>\n",
       "  <tbody>\n",
       "    <tr>\n",
       "      <th>0</th>\n",
       "      <td>Wed, 01 Mar 2023 10:36:22 GMT</td>\n",
       "      <td>web</td>\n",
       "      <td>Mozilla/5.0 (Windows NT 10.0; Win64; x64) Appl...</td>\n",
       "      <td>1de9ea66-70d3-4a1f-8735-df5ef7697fb9</td>\n",
       "    </tr>\n",
       "    <tr>\n",
       "      <th>1</th>\n",
       "      <td>Wed, 01 Mar 2023 06:25:00 GMT</td>\n",
       "      <td>web</td>\n",
       "      <td>Mozilla/5.0 (Windows NT 10.0; WOW64; Trident/7...</td>\n",
       "      <td>f149f542-e935-4870-9734-6b4501eaf614</td>\n",
       "    </tr>\n",
       "    <tr>\n",
       "      <th>2</th>\n",
       "      <td>Wed, 01 Mar 2023 10:26:13 GMT</td>\n",
       "      <td>web</td>\n",
       "      <td>Mozilla/5.0 (Macintosh; Intel Mac OS X 10_11_2...</td>\n",
       "      <td>08f0ebd4-950c-4dd9-8e97-b5bdf073eed1</td>\n",
       "    </tr>\n",
       "    <tr>\n",
       "      <th>3</th>\n",
       "      <td>Wed, 01 Mar 2023 12:33:06 GMT</td>\n",
       "      <td>web</td>\n",
       "      <td>Mozilla/5.0 (Macintosh; Intel Mac OS X 10_15_7...</td>\n",
       "      <td>19322fed-157c-49c6-b16e-2d5cabeb9592</td>\n",
       "    </tr>\n",
       "    <tr>\n",
       "      <th>4</th>\n",
       "      <td>Wed, 01 Mar 2023 01:38:35 GMT</td>\n",
       "      <td>web</td>\n",
       "      <td>Mozilla/5.0 (Windows NT 10.0; Win64; x64) Appl...</td>\n",
       "      <td>04762a22-3c9f-40c9-9ac9-6628c4381836</td>\n",
       "    </tr>\n",
       "  </tbody>\n",
       "</table>\n",
       "</div>"
      ],
      "text/plain": [
       "                        datetime platform  \\\n",
       "0  Wed, 01 Mar 2023 10:36:22 GMT      web   \n",
       "1  Wed, 01 Mar 2023 06:25:00 GMT      web   \n",
       "2  Wed, 01 Mar 2023 10:26:13 GMT      web   \n",
       "3  Wed, 01 Mar 2023 12:33:06 GMT      web   \n",
       "4  Wed, 01 Mar 2023 01:38:35 GMT      web   \n",
       "\n",
       "                                          user_agent  \\\n",
       "0  Mozilla/5.0 (Windows NT 10.0; Win64; x64) Appl...   \n",
       "1  Mozilla/5.0 (Windows NT 10.0; WOW64; Trident/7...   \n",
       "2  Mozilla/5.0 (Macintosh; Intel Mac OS X 10_11_2...   \n",
       "3  Mozilla/5.0 (Macintosh; Intel Mac OS X 10_15_7...   \n",
       "4  Mozilla/5.0 (Windows NT 10.0; Win64; x64) Appl...   \n",
       "\n",
       "                               visit_id  \n",
       "0  1de9ea66-70d3-4a1f-8735-df5ef7697fb9  \n",
       "1  f149f542-e935-4870-9734-6b4501eaf614  \n",
       "2  08f0ebd4-950c-4dd9-8e97-b5bdf073eed1  \n",
       "3  19322fed-157c-49c6-b16e-2d5cabeb9592  \n",
       "4  04762a22-3c9f-40c9-9ac9-6628c4381836  "
      ]
     },
     "execution_count": 250,
     "metadata": {},
     "output_type": "execute_result"
    }
   ],
   "source": [
    "def get_humans(x):\n",
    "    if 'bot' in x.lower():\n",
    "        return 'bot'\n",
    "    else:\n",
    "        return 'human'\n",
    "\n",
    "visits['human_or_bot'] = visits['user_agent'].apply(lambda x: get_humans(x))\n",
    "visits = visits[visits['human_or_bot'] == 'human'].drop(['human_or_bot'], axis=1)\n",
    "visits.head()"
   ]
  },
  {
   "cell_type": "code",
   "execution_count": 251,
   "id": "c3f2e155-6d09-4506-89c8-3e15d1bc8cfc",
   "metadata": {},
   "outputs": [
    {
     "data": {
      "text/plain": [
       "256077"
      ]
     },
     "execution_count": 251,
     "metadata": {},
     "output_type": "execute_result"
    }
   ],
   "source": [
    "len(visits)"
   ]
  },
  {
   "cell_type": "markdown",
   "id": "2f5eeb13-7c3d-462c-ac01-11d639a5c643",
   "metadata": {},
   "source": [
    "<h3>Преобразование в Datetime, фильтрация только последних визитов:</h3>"
   ]
  },
  {
   "cell_type": "code",
   "execution_count": 252,
   "id": "041414d9-60bd-4d03-97bc-36db946036ef",
   "metadata": {},
   "outputs": [
    {
     "data": {
      "text/html": [
       "<div>\n",
       "<style scoped>\n",
       "    .dataframe tbody tr th:only-of-type {\n",
       "        vertical-align: middle;\n",
       "    }\n",
       "\n",
       "    .dataframe tbody tr th {\n",
       "        vertical-align: top;\n",
       "    }\n",
       "\n",
       "    .dataframe thead th {\n",
       "        text-align: right;\n",
       "    }\n",
       "</style>\n",
       "<table border=\"1\" class=\"dataframe\">\n",
       "  <thead>\n",
       "    <tr style=\"text-align: right;\">\n",
       "      <th></th>\n",
       "      <th>datetime</th>\n",
       "      <th>platform</th>\n",
       "      <th>user_agent</th>\n",
       "      <th>visit_id</th>\n",
       "      <th>visit_no</th>\n",
       "    </tr>\n",
       "  </thead>\n",
       "  <tbody>\n",
       "    <tr>\n",
       "      <th>0</th>\n",
       "      <td>2023-03-01 10:36:22</td>\n",
       "      <td>web</td>\n",
       "      <td>Mozilla/5.0 (Windows NT 10.0; Win64; x64) Appl...</td>\n",
       "      <td>1de9ea66-70d3-4a1f-8735-df5ef7697fb9</td>\n",
       "      <td>16218</td>\n",
       "    </tr>\n",
       "    <tr>\n",
       "      <th>1</th>\n",
       "      <td>2023-03-01 06:25:00</td>\n",
       "      <td>web</td>\n",
       "      <td>Mozilla/5.0 (Windows NT 10.0; WOW64; Trident/7...</td>\n",
       "      <td>f149f542-e935-4870-9734-6b4501eaf614</td>\n",
       "      <td>130783</td>\n",
       "    </tr>\n",
       "    <tr>\n",
       "      <th>2</th>\n",
       "      <td>2023-03-01 10:26:13</td>\n",
       "      <td>web</td>\n",
       "      <td>Mozilla/5.0 (Macintosh; Intel Mac OS X 10_11_2...</td>\n",
       "      <td>08f0ebd4-950c-4dd9-8e97-b5bdf073eed1</td>\n",
       "      <td>4831</td>\n",
       "    </tr>\n",
       "    <tr>\n",
       "      <th>3</th>\n",
       "      <td>2023-03-01 12:33:06</td>\n",
       "      <td>web</td>\n",
       "      <td>Mozilla/5.0 (Macintosh; Intel Mac OS X 10_15_7...</td>\n",
       "      <td>19322fed-157c-49c6-b16e-2d5cabeb9592</td>\n",
       "      <td>13656</td>\n",
       "    </tr>\n",
       "    <tr>\n",
       "      <th>4</th>\n",
       "      <td>2023-03-01 01:38:35</td>\n",
       "      <td>web</td>\n",
       "      <td>Mozilla/5.0 (Windows NT 10.0; Win64; x64) Appl...</td>\n",
       "      <td>04762a22-3c9f-40c9-9ac9-6628c4381836</td>\n",
       "      <td>2411</td>\n",
       "    </tr>\n",
       "  </tbody>\n",
       "</table>\n",
       "</div>"
      ],
      "text/plain": [
       "             datetime platform  \\\n",
       "0 2023-03-01 10:36:22      web   \n",
       "1 2023-03-01 06:25:00      web   \n",
       "2 2023-03-01 10:26:13      web   \n",
       "3 2023-03-01 12:33:06      web   \n",
       "4 2023-03-01 01:38:35      web   \n",
       "\n",
       "                                          user_agent  \\\n",
       "0  Mozilla/5.0 (Windows NT 10.0; Win64; x64) Appl...   \n",
       "1  Mozilla/5.0 (Windows NT 10.0; WOW64; Trident/7...   \n",
       "2  Mozilla/5.0 (Macintosh; Intel Mac OS X 10_11_2...   \n",
       "3  Mozilla/5.0 (Macintosh; Intel Mac OS X 10_15_7...   \n",
       "4  Mozilla/5.0 (Windows NT 10.0; Win64; x64) Appl...   \n",
       "\n",
       "                               visit_id  visit_no  \n",
       "0  1de9ea66-70d3-4a1f-8735-df5ef7697fb9     16218  \n",
       "1  f149f542-e935-4870-9734-6b4501eaf614    130783  \n",
       "2  08f0ebd4-950c-4dd9-8e97-b5bdf073eed1      4831  \n",
       "3  19322fed-157c-49c6-b16e-2d5cabeb9592     13656  \n",
       "4  04762a22-3c9f-40c9-9ac9-6628c4381836      2411  "
      ]
     },
     "execution_count": 252,
     "metadata": {},
     "output_type": "execute_result"
    }
   ],
   "source": [
    "visits['datetime'] = pd.to_datetime(visits['datetime'])#.dt.date\n",
    "visits['visit_no'] = visits.groupby('visit_id').ngroup()\n",
    "visits.head()"
   ]
  },
  {
   "cell_type": "code",
   "execution_count": 253,
   "id": "475aec99-71c8-46c2-bf37-5c435e2caff0",
   "metadata": {},
   "outputs": [
    {
     "data": {
      "text/plain": [
       "256077"
      ]
     },
     "execution_count": 253,
     "metadata": {},
     "output_type": "execute_result"
    }
   ],
   "source": [
    "len(visits)"
   ]
  },
  {
   "cell_type": "code",
   "execution_count": 254,
   "id": "69ac0bba-fdc5-4ddd-be97-59ba13e4e660",
   "metadata": {},
   "outputs": [
    {
     "data": {
      "text/html": [
       "<div>\n",
       "<style scoped>\n",
       "    .dataframe tbody tr th:only-of-type {\n",
       "        vertical-align: middle;\n",
       "    }\n",
       "\n",
       "    .dataframe tbody tr th {\n",
       "        vertical-align: top;\n",
       "    }\n",
       "\n",
       "    .dataframe thead th {\n",
       "        text-align: right;\n",
       "    }\n",
       "</style>\n",
       "<table border=\"1\" class=\"dataframe\">\n",
       "  <thead>\n",
       "    <tr style=\"text-align: right;\">\n",
       "      <th></th>\n",
       "      <th>datetime</th>\n",
       "      <th>platform</th>\n",
       "      <th>user_agent</th>\n",
       "      <th>visit_id</th>\n",
       "      <th>visit_no</th>\n",
       "    </tr>\n",
       "  </thead>\n",
       "  <tbody>\n",
       "    <tr>\n",
       "      <th>0</th>\n",
       "      <td>2023-06-06 20:32:30</td>\n",
       "      <td>android</td>\n",
       "      <td>Mozilla/5.0 (Linux; Android 10; K) AppleWebKit...</td>\n",
       "      <td>000012d3-f8c7-4257-8999-ad622b703492</td>\n",
       "      <td>0</td>\n",
       "    </tr>\n",
       "    <tr>\n",
       "      <th>1</th>\n",
       "      <td>2023-08-16 11:36:01</td>\n",
       "      <td>web</td>\n",
       "      <td>Mozilla/5.0 (X11; Ubuntu; Linux x86_64; rv:109...</td>\n",
       "      <td>0000164b-36eb-409a-8ab4-4acc25e5f3de</td>\n",
       "      <td>1</td>\n",
       "    </tr>\n",
       "    <tr>\n",
       "      <th>2</th>\n",
       "      <td>2023-08-12 18:16:42</td>\n",
       "      <td>web</td>\n",
       "      <td>Mozilla/5.0 (X11; Ubuntu; Linux x86_64; rv:109...</td>\n",
       "      <td>0000164b-36eb-409a-8ab4-4acc25e5f3de</td>\n",
       "      <td>1</td>\n",
       "    </tr>\n",
       "    <tr>\n",
       "      <th>3</th>\n",
       "      <td>2023-07-02 18:49:04</td>\n",
       "      <td>web</td>\n",
       "      <td>Mozilla/5.0 (Windows NT 10.0; Win64; x64) Appl...</td>\n",
       "      <td>0000190e-e494-4fe1-876f-0dc2b4e1be1c</td>\n",
       "      <td>2</td>\n",
       "    </tr>\n",
       "    <tr>\n",
       "      <th>4</th>\n",
       "      <td>2023-08-29 20:14:40</td>\n",
       "      <td>web</td>\n",
       "      <td>Mozilla/5.0 (Windows NT 10.0; Win64; x64; rv:1...</td>\n",
       "      <td>000063a2-6a6c-466a-b7e5-781568668a6b</td>\n",
       "      <td>3</td>\n",
       "    </tr>\n",
       "  </tbody>\n",
       "</table>\n",
       "</div>"
      ],
      "text/plain": [
       "             datetime platform  \\\n",
       "0 2023-06-06 20:32:30  android   \n",
       "1 2023-08-16 11:36:01      web   \n",
       "2 2023-08-12 18:16:42      web   \n",
       "3 2023-07-02 18:49:04      web   \n",
       "4 2023-08-29 20:14:40      web   \n",
       "\n",
       "                                          user_agent  \\\n",
       "0  Mozilla/5.0 (Linux; Android 10; K) AppleWebKit...   \n",
       "1  Mozilla/5.0 (X11; Ubuntu; Linux x86_64; rv:109...   \n",
       "2  Mozilla/5.0 (X11; Ubuntu; Linux x86_64; rv:109...   \n",
       "3  Mozilla/5.0 (Windows NT 10.0; Win64; x64) Appl...   \n",
       "4  Mozilla/5.0 (Windows NT 10.0; Win64; x64; rv:1...   \n",
       "\n",
       "                               visit_id  visit_no  \n",
       "0  000012d3-f8c7-4257-8999-ad622b703492         0  \n",
       "1  0000164b-36eb-409a-8ab4-4acc25e5f3de         1  \n",
       "2  0000164b-36eb-409a-8ab4-4acc25e5f3de         1  \n",
       "3  0000190e-e494-4fe1-876f-0dc2b4e1be1c         2  \n",
       "4  000063a2-6a6c-466a-b7e5-781568668a6b         3  "
      ]
     },
     "execution_count": 254,
     "metadata": {},
     "output_type": "execute_result"
    }
   ],
   "source": [
    "visits = visits.sort_values(by=['visit_id', 'datetime'], ascending=[True, False]).reset_index(drop=True)\n",
    "visits.head()"
   ]
  },
  {
   "cell_type": "code",
   "execution_count": 255,
   "id": "2975f4f8-1452-483a-982f-311b5638e4ce",
   "metadata": {},
   "outputs": [
    {
     "data": {
      "text/plain": [
       "256077"
      ]
     },
     "execution_count": 255,
     "metadata": {},
     "output_type": "execute_result"
    }
   ],
   "source": [
    "len(visits)"
   ]
  },
  {
   "cell_type": "code",
   "execution_count": 256,
   "id": "69fd4cd1-4f09-4173-ba75-d3b7b5216784",
   "metadata": {},
   "outputs": [
    {
     "data": {
      "text/html": [
       "<div>\n",
       "<style scoped>\n",
       "    .dataframe tbody tr th:only-of-type {\n",
       "        vertical-align: middle;\n",
       "    }\n",
       "\n",
       "    .dataframe tbody tr th {\n",
       "        vertical-align: top;\n",
       "    }\n",
       "\n",
       "    .dataframe thead th {\n",
       "        text-align: right;\n",
       "    }\n",
       "</style>\n",
       "<table border=\"1\" class=\"dataframe\">\n",
       "  <thead>\n",
       "    <tr style=\"text-align: right;\">\n",
       "      <th></th>\n",
       "      <th>datetime</th>\n",
       "      <th>platform</th>\n",
       "      <th>user_agent</th>\n",
       "      <th>visit_id</th>\n",
       "      <th>visit_no</th>\n",
       "    </tr>\n",
       "  </thead>\n",
       "  <tbody>\n",
       "    <tr>\n",
       "      <th>0</th>\n",
       "      <td>2023-06-06 20:32:30</td>\n",
       "      <td>android</td>\n",
       "      <td>Mozilla/5.0 (Linux; Android 10; K) AppleWebKit...</td>\n",
       "      <td>000012d3-f8c7-4257-8999-ad622b703492</td>\n",
       "      <td>0</td>\n",
       "    </tr>\n",
       "    <tr>\n",
       "      <th>1</th>\n",
       "      <td>2023-08-16 11:36:01</td>\n",
       "      <td>web</td>\n",
       "      <td>Mozilla/5.0 (X11; Ubuntu; Linux x86_64; rv:109...</td>\n",
       "      <td>0000164b-36eb-409a-8ab4-4acc25e5f3de</td>\n",
       "      <td>1</td>\n",
       "    </tr>\n",
       "    <tr>\n",
       "      <th>2</th>\n",
       "      <td>2023-07-02 18:49:04</td>\n",
       "      <td>web</td>\n",
       "      <td>Mozilla/5.0 (Windows NT 10.0; Win64; x64) Appl...</td>\n",
       "      <td>0000190e-e494-4fe1-876f-0dc2b4e1be1c</td>\n",
       "      <td>2</td>\n",
       "    </tr>\n",
       "    <tr>\n",
       "      <th>3</th>\n",
       "      <td>2023-08-29 20:14:40</td>\n",
       "      <td>web</td>\n",
       "      <td>Mozilla/5.0 (Windows NT 10.0; Win64; x64; rv:1...</td>\n",
       "      <td>000063a2-6a6c-466a-b7e5-781568668a6b</td>\n",
       "      <td>3</td>\n",
       "    </tr>\n",
       "    <tr>\n",
       "      <th>4</th>\n",
       "      <td>2023-07-02 07:20:46</td>\n",
       "      <td>web</td>\n",
       "      <td>Mozilla/5.0 (Windows NT 10.0; Win64; x64; rv:1...</td>\n",
       "      <td>0000b829-7f90-4a38-b831-9b314ecfd8b5</td>\n",
       "      <td>4</td>\n",
       "    </tr>\n",
       "    <tr>\n",
       "      <th>...</th>\n",
       "      <td>...</td>\n",
       "      <td>...</td>\n",
       "      <td>...</td>\n",
       "      <td>...</td>\n",
       "      <td>...</td>\n",
       "    </tr>\n",
       "    <tr>\n",
       "      <th>95</th>\n",
       "      <td>2023-08-29 13:37:54</td>\n",
       "      <td>web</td>\n",
       "      <td>Mozilla/5.0 (Macintosh; Intel Mac OS X 10_11_2...</td>\n",
       "      <td>002da215-4b99-419e-90c0-a75f19d7e56e</td>\n",
       "      <td>95</td>\n",
       "    </tr>\n",
       "    <tr>\n",
       "      <th>96</th>\n",
       "      <td>2023-08-16 04:12:49</td>\n",
       "      <td>web</td>\n",
       "      <td>Mozilla/5.0 (Windows NT 10.0; Win64; x64) Appl...</td>\n",
       "      <td>002e524a-8ff2-4415-86c4-2f387dbf9b9f</td>\n",
       "      <td>96</td>\n",
       "    </tr>\n",
       "    <tr>\n",
       "      <th>97</th>\n",
       "      <td>2023-06-07 06:28:52</td>\n",
       "      <td>web</td>\n",
       "      <td>Mozilla/5.0 (Windows NT 10.0; WOW64; Trident/7...</td>\n",
       "      <td>002fc733-502f-42c4-8c5a-677ae8ac4c6d</td>\n",
       "      <td>97</td>\n",
       "    </tr>\n",
       "    <tr>\n",
       "      <th>98</th>\n",
       "      <td>2023-04-22 22:41:01</td>\n",
       "      <td>web</td>\n",
       "      <td>Mozilla/5.0 (X11; Ubuntu; Linux x86_64; rv:109...</td>\n",
       "      <td>00306f2a-0e95-4665-98c5-f6e2c478a59a</td>\n",
       "      <td>98</td>\n",
       "    </tr>\n",
       "    <tr>\n",
       "      <th>99</th>\n",
       "      <td>2023-03-08 14:04:49</td>\n",
       "      <td>web</td>\n",
       "      <td>Mozilla/5.0 (X11; Ubuntu; Linux x86_64; rv:109...</td>\n",
       "      <td>003097ec-2582-4dbf-9101-eec792c6b18b</td>\n",
       "      <td>99</td>\n",
       "    </tr>\n",
       "  </tbody>\n",
       "</table>\n",
       "<p>100 rows × 5 columns</p>\n",
       "</div>"
      ],
      "text/plain": [
       "              datetime platform  \\\n",
       "0  2023-06-06 20:32:30  android   \n",
       "1  2023-08-16 11:36:01      web   \n",
       "2  2023-07-02 18:49:04      web   \n",
       "3  2023-08-29 20:14:40      web   \n",
       "4  2023-07-02 07:20:46      web   \n",
       "..                 ...      ...   \n",
       "95 2023-08-29 13:37:54      web   \n",
       "96 2023-08-16 04:12:49      web   \n",
       "97 2023-06-07 06:28:52      web   \n",
       "98 2023-04-22 22:41:01      web   \n",
       "99 2023-03-08 14:04:49      web   \n",
       "\n",
       "                                           user_agent  \\\n",
       "0   Mozilla/5.0 (Linux; Android 10; K) AppleWebKit...   \n",
       "1   Mozilla/5.0 (X11; Ubuntu; Linux x86_64; rv:109...   \n",
       "2   Mozilla/5.0 (Windows NT 10.0; Win64; x64) Appl...   \n",
       "3   Mozilla/5.0 (Windows NT 10.0; Win64; x64; rv:1...   \n",
       "4   Mozilla/5.0 (Windows NT 10.0; Win64; x64; rv:1...   \n",
       "..                                                ...   \n",
       "95  Mozilla/5.0 (Macintosh; Intel Mac OS X 10_11_2...   \n",
       "96  Mozilla/5.0 (Windows NT 10.0; Win64; x64) Appl...   \n",
       "97  Mozilla/5.0 (Windows NT 10.0; WOW64; Trident/7...   \n",
       "98  Mozilla/5.0 (X11; Ubuntu; Linux x86_64; rv:109...   \n",
       "99  Mozilla/5.0 (X11; Ubuntu; Linux x86_64; rv:109...   \n",
       "\n",
       "                                visit_id  visit_no  \n",
       "0   000012d3-f8c7-4257-8999-ad622b703492         0  \n",
       "1   0000164b-36eb-409a-8ab4-4acc25e5f3de         1  \n",
       "2   0000190e-e494-4fe1-876f-0dc2b4e1be1c         2  \n",
       "3   000063a2-6a6c-466a-b7e5-781568668a6b         3  \n",
       "4   0000b829-7f90-4a38-b831-9b314ecfd8b5         4  \n",
       "..                                   ...       ...  \n",
       "95  002da215-4b99-419e-90c0-a75f19d7e56e        95  \n",
       "96  002e524a-8ff2-4415-86c4-2f387dbf9b9f        96  \n",
       "97  002fc733-502f-42c4-8c5a-677ae8ac4c6d        97  \n",
       "98  00306f2a-0e95-4665-98c5-f6e2c478a59a        98  \n",
       "99  003097ec-2582-4dbf-9101-eec792c6b18b        99  \n",
       "\n",
       "[100 rows x 5 columns]"
      ]
     },
     "execution_count": 256,
     "metadata": {},
     "output_type": "execute_result"
    }
   ],
   "source": [
    "visits = visits.groupby(['visit_id']).head(1).reset_index(drop=True)\n",
    "visits.head(100)"
   ]
  },
  {
   "cell_type": "code",
   "execution_count": 257,
   "id": "f06bb6a1-957a-4136-9844-8c2255e0c312",
   "metadata": {},
   "outputs": [
    {
     "data": {
      "text/plain": [
       "138703"
      ]
     },
     "execution_count": 257,
     "metadata": {},
     "output_type": "execute_result"
    }
   ],
   "source": [
    "len(visits)"
   ]
  },
  {
   "cell_type": "code",
   "execution_count": 258,
   "id": "e9b5a8ae-e552-433c-abe6-a2d65d787110",
   "metadata": {},
   "outputs": [
    {
     "data": {
      "text/html": [
       "<div>\n",
       "<style scoped>\n",
       "    .dataframe tbody tr th:only-of-type {\n",
       "        vertical-align: middle;\n",
       "    }\n",
       "\n",
       "    .dataframe tbody tr th {\n",
       "        vertical-align: top;\n",
       "    }\n",
       "\n",
       "    .dataframe thead th {\n",
       "        text-align: right;\n",
       "    }\n",
       "</style>\n",
       "<table border=\"1\" class=\"dataframe\">\n",
       "  <thead>\n",
       "    <tr style=\"text-align: right;\">\n",
       "      <th></th>\n",
       "      <th>datetime</th>\n",
       "      <th>platform</th>\n",
       "      <th>user_agent</th>\n",
       "      <th>visit_id</th>\n",
       "      <th>visit_no</th>\n",
       "    </tr>\n",
       "  </thead>\n",
       "  <tbody>\n",
       "    <tr>\n",
       "      <th>0</th>\n",
       "      <td>2023-06-06</td>\n",
       "      <td>android</td>\n",
       "      <td>Mozilla/5.0 (Linux; Android 10; K) AppleWebKit...</td>\n",
       "      <td>000012d3-f8c7-4257-8999-ad622b703492</td>\n",
       "      <td>0</td>\n",
       "    </tr>\n",
       "    <tr>\n",
       "      <th>1</th>\n",
       "      <td>2023-08-16</td>\n",
       "      <td>web</td>\n",
       "      <td>Mozilla/5.0 (X11; Ubuntu; Linux x86_64; rv:109...</td>\n",
       "      <td>0000164b-36eb-409a-8ab4-4acc25e5f3de</td>\n",
       "      <td>1</td>\n",
       "    </tr>\n",
       "    <tr>\n",
       "      <th>2</th>\n",
       "      <td>2023-07-02</td>\n",
       "      <td>web</td>\n",
       "      <td>Mozilla/5.0 (Windows NT 10.0; Win64; x64) Appl...</td>\n",
       "      <td>0000190e-e494-4fe1-876f-0dc2b4e1be1c</td>\n",
       "      <td>2</td>\n",
       "    </tr>\n",
       "    <tr>\n",
       "      <th>3</th>\n",
       "      <td>2023-08-29</td>\n",
       "      <td>web</td>\n",
       "      <td>Mozilla/5.0 (Windows NT 10.0; Win64; x64; rv:1...</td>\n",
       "      <td>000063a2-6a6c-466a-b7e5-781568668a6b</td>\n",
       "      <td>3</td>\n",
       "    </tr>\n",
       "    <tr>\n",
       "      <th>4</th>\n",
       "      <td>2023-07-02</td>\n",
       "      <td>web</td>\n",
       "      <td>Mozilla/5.0 (Windows NT 10.0; Win64; x64; rv:1...</td>\n",
       "      <td>0000b829-7f90-4a38-b831-9b314ecfd8b5</td>\n",
       "      <td>4</td>\n",
       "    </tr>\n",
       "  </tbody>\n",
       "</table>\n",
       "</div>"
      ],
      "text/plain": [
       "     datetime platform                                         user_agent  \\\n",
       "0  2023-06-06  android  Mozilla/5.0 (Linux; Android 10; K) AppleWebKit...   \n",
       "1  2023-08-16      web  Mozilla/5.0 (X11; Ubuntu; Linux x86_64; rv:109...   \n",
       "2  2023-07-02      web  Mozilla/5.0 (Windows NT 10.0; Win64; x64) Appl...   \n",
       "3  2023-08-29      web  Mozilla/5.0 (Windows NT 10.0; Win64; x64; rv:1...   \n",
       "4  2023-07-02      web  Mozilla/5.0 (Windows NT 10.0; Win64; x64; rv:1...   \n",
       "\n",
       "                               visit_id  visit_no  \n",
       "0  000012d3-f8c7-4257-8999-ad622b703492         0  \n",
       "1  0000164b-36eb-409a-8ab4-4acc25e5f3de         1  \n",
       "2  0000190e-e494-4fe1-876f-0dc2b4e1be1c         2  \n",
       "3  000063a2-6a6c-466a-b7e5-781568668a6b         3  \n",
       "4  0000b829-7f90-4a38-b831-9b314ecfd8b5         4  "
      ]
     },
     "execution_count": 258,
     "metadata": {},
     "output_type": "execute_result"
    }
   ],
   "source": [
    "visits['datetime'] = visits['datetime'].dt.date\n",
    "visits.head()"
   ]
  },
  {
   "cell_type": "raw",
   "id": "2a61495e-d4e0-4ae9-b133-12c6ca190a5f",
   "metadata": {},
   "source": [
    "r_r = requests.get('https://data-charts-api.hexlet.app/registrations?begin=2023-03-01&end=2023-09-01')\n",
    "registrations = pd.DataFrame(r_r.json())"
   ]
  },
  {
   "cell_type": "code",
   "execution_count": null,
   "id": "7dcb74da-9036-41c7-bfef-c1a9057295a0",
   "metadata": {},
   "outputs": [],
   "source": []
  }
 ],
 "metadata": {
  "kernelspec": {
   "display_name": "Python 3 (ipykernel)",
   "language": "python",
   "name": "python3"
  },
  "language_info": {
   "codemirror_mode": {
    "name": "ipython",
    "version": 3
   },
   "file_extension": ".py",
   "mimetype": "text/x-python",
   "name": "python",
   "nbconvert_exporter": "python",
   "pygments_lexer": "ipython3",
   "version": "3.12.2"
  }
 },
 "nbformat": 4,
 "nbformat_minor": 5
}
